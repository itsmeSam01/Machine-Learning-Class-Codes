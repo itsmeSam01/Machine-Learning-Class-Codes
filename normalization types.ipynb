{
 "cells": [
  {
   "cell_type": "code",
   "execution_count": 1,
   "id": "a9502e3a-9074-4f72-a09d-d0119cbc1962",
   "metadata": {},
   "outputs": [],
   "source": [
    "import numpy as np\n",
    "from sklearn.preprocessing import MinMaxScaler, StandardScaler, MaxAbsScaler, RobustScaler\n",
    "\n",
    "# Data\n",
    "data = np.array([150, 160, 165, 170, 300]).reshape(-1, 1)"
   ]
  },
  {
   "cell_type": "code",
   "execution_count": 2,
   "id": "e5ea1fa9-801e-40a8-b1c8-6998654b80c1",
   "metadata": {},
   "outputs": [
    {
     "name": "stdout",
     "output_type": "stream",
     "text": [
      "Original Data:\n",
      " [150 160 165 170 300]\n",
      "\n",
      "Min-Max Normalization:\n",
      " [0.         0.06666667 0.1        0.13333333 1.        ]\n"
     ]
    }
   ],
   "source": [
    "# Min-Max Normalization\n",
    "min_max_scaler = MinMaxScaler()\n",
    "min_max_normalized = min_max_scaler.fit_transform(data)\n",
    "\n",
    "print(\"Original Data:\\n\", data.flatten())\n",
    "print(\"\\nMin-Max Normalization:\\n\", min_max_normalized.flatten())\n"
   ]
  },
  {
   "cell_type": "code",
   "execution_count": 3,
   "id": "e9694c3f-7118-4117-bf6b-567bb4b3443d",
   "metadata": {},
   "outputs": [
    {
     "name": "stdout",
     "output_type": "stream",
     "text": [
      "\n",
      "Mean Normalization:\n",
      " [-0.26       -0.19333333 -0.16       -0.12666667  0.74      ]\n"
     ]
    }
   ],
   "source": [
    "# Mean Normalization (manual calculation)\n",
    "mean = np.mean(data)\n",
    "range_val = np.max(data) - np.min(data)\n",
    "mean_normalized = (data - mean) / range_val\n",
    "\n",
    "print(\"\\nMean Normalization:\\n\", mean_normalized.flatten())"
   ]
  },
  {
   "cell_type": "code",
   "execution_count": 7,
   "id": "ae23c9d5-6f54-4ee3-800b-1e9675cc8fbe",
   "metadata": {},
   "outputs": [
    {
     "name": "stdout",
     "output_type": "stream",
     "text": [
      "\n",
      "Max Absolute Scaling:\n",
      " [0.5        0.53333333 0.55       0.56666667 1.        ]\n"
     ]
    }
   ],
   "source": [
    "# Max Absolute Scaling\n",
    "max_abs_scaler = MaxAbsScaler()\n",
    "max_abs_normalized = max_abs_scaler.fit_transform(data)\n",
    "\n",
    "print(\"\\nMax Absolute Scaling:\\n\", max_abs_normalized.flatten())"
   ]
  },
  {
   "cell_type": "code",
   "execution_count": 8,
   "id": "bab73b77-6b07-4130-991d-c787e7fcb8d9",
   "metadata": {},
   "outputs": [
    {
     "name": "stdout",
     "output_type": "stream",
     "text": [
      "\n",
      "Robust Scaling:\n",
      " [-1.5 -0.5  0.   0.5 13.5]\n"
     ]
    }
   ],
   "source": [
    "# Robust Scaling\n",
    "robust_scaler = RobustScaler()\n",
    "robust_normalized = robust_scaler.fit_transform(data)\n",
    "\n",
    "print(\"\\nRobust Scaling:\\n\", robust_normalized.flatten())"
   ]
  },
  {
   "cell_type": "code",
   "execution_count": 11,
   "id": "75a606b6-5d82-41a7-89a3-207d457d244e",
   "metadata": {},
   "outputs": [
    {
     "name": "stdout",
     "output_type": "stream",
     "text": [
      "\n",
      "Z-Score Normalization:\n",
      " [-0.69776486 -0.51885079 -0.42939376 -0.33993673  1.98594614]\n"
     ]
    }
   ],
   "source": [
    "# Z-Score Normalization\n",
    "z_score_scaler = StandardScaler()\n",
    "z_score_normalized = z_score_scaler.fit_transform(data)\n",
    "\n",
    "print(\"\\nZ-Score Normalization:\\n\", z_score_normalized.flatten())"
   ]
  },
  {
   "cell_type": "code",
   "execution_count": null,
   "id": "7dc8efe1-366e-4239-ad4b-36f5ba5b61be",
   "metadata": {},
   "outputs": [],
   "source": []
  }
 ],
 "metadata": {
  "kernelspec": {
   "display_name": "Python 3 (ipykernel)",
   "language": "python",
   "name": "python3"
  },
  "language_info": {
   "codemirror_mode": {
    "name": "ipython",
    "version": 3
   },
   "file_extension": ".py",
   "mimetype": "text/x-python",
   "name": "python",
   "nbconvert_exporter": "python",
   "pygments_lexer": "ipython3",
   "version": "3.12.7"
  }
 },
 "nbformat": 4,
 "nbformat_minor": 5
}
